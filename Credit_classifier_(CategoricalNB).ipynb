{
  "nbformat": 4,
  "nbformat_minor": 0,
  "metadata": {
    "colab": {
      "name": "Credit classifier (CategoricalNB).ipynb",
      "provenance": [],
      "include_colab_link": true
    },
    "kernelspec": {
      "name": "python3",
      "display_name": "Python 3"
    },
    "language_info": {
      "name": "python"
    }
  },
  "cells": [
    {
      "cell_type": "markdown",
      "metadata": {
        "id": "view-in-github",
        "colab_type": "text"
      },
      "source": [
        "<a href=\"https://colab.research.google.com/github/SavintsevaS/BigDataNSU/blob/main/Credit_classifier_(CategoricalNB).ipynb\" target=\"_parent\"><img src=\"https://colab.research.google.com/assets/colab-badge.svg\" alt=\"Open In Colab\"/></a>"
      ]
    },
    {
      "cell_type": "code",
      "execution_count": 3,
      "metadata": {
        "id": "oGOPVsvkhMzp"
      },
      "outputs": [],
      "source": [
        "import pandas as pd"
      ]
    },
    {
      "cell_type": "code",
      "source": [
        "!wget \"https://drive.google.com/uc?export=download&confirm=no_antivirus&id=1_KRd0cy-lIIkzctAkzTl98A485LBBCZV\" -O credit.csv"
      ],
      "metadata": {
        "colab": {
          "base_uri": "https://localhost:8080/"
        },
        "id": "3q8jEXGciQA7",
        "outputId": "0cd52e40-cb9f-43b3-9f2f-c7e310a3257d"
      },
      "execution_count": 1,
      "outputs": [
        {
          "output_type": "stream",
          "name": "stdout",
          "text": [
            "--2022-06-16 04:14:12--  https://drive.google.com/uc?export=download&confirm=no_antivirus&id=1_KRd0cy-lIIkzctAkzTl98A485LBBCZV\n",
            "Resolving drive.google.com (drive.google.com)... 172.253.63.101, 172.253.63.139, 172.253.63.102, ...\n",
            "Connecting to drive.google.com (drive.google.com)|172.253.63.101|:443... connected.\n",
            "HTTP request sent, awaiting response... 303 See Other\n",
            "Location: https://doc-14-bc-docs.googleusercontent.com/docs/securesc/ha0ro937gcuc7l7deffksulhg5h7mbp1/nib4a49h5hov2tnhd68dtnnf1cp693il/1655352825000/09365094780920901112/*/1_KRd0cy-lIIkzctAkzTl98A485LBBCZV?e=download [following]\n",
            "Warning: wildcards not supported in HTTP.\n",
            "--2022-06-16 04:14:12--  https://doc-14-bc-docs.googleusercontent.com/docs/securesc/ha0ro937gcuc7l7deffksulhg5h7mbp1/nib4a49h5hov2tnhd68dtnnf1cp693il/1655352825000/09365094780920901112/*/1_KRd0cy-lIIkzctAkzTl98A485LBBCZV?e=download\n",
            "Resolving doc-14-bc-docs.googleusercontent.com (doc-14-bc-docs.googleusercontent.com)... 142.251.33.193, 2607:f8b0:4004:837::2001\n",
            "Connecting to doc-14-bc-docs.googleusercontent.com (doc-14-bc-docs.googleusercontent.com)|142.251.33.193|:443... connected.\n",
            "HTTP request sent, awaiting response... 200 OK\n",
            "Length: 1566 (1.5K) [text/csv]\n",
            "Saving to: ‘credit.csv’\n",
            "\n",
            "credit.csv          100%[===================>]   1.53K  --.-KB/s    in 0s      \n",
            "\n",
            "2022-06-16 04:14:13 (15.8 MB/s) - ‘credit.csv’ saved [1566/1566]\n",
            "\n"
          ]
        }
      ]
    },
    {
      "cell_type": "code",
      "source": [
        "data = pd.read_csv('credit.csv')"
      ],
      "metadata": {
        "id": "SJpCSswYiU4U"
      },
      "execution_count": 4,
      "outputs": []
    },
    {
      "cell_type": "code",
      "source": [
        "X = data[[\"personal_status\", \"job\", \"housing\", \"saving_status\"]]"
      ],
      "metadata": {
        "id": "Gr7G_Uu6nAMW"
      },
      "execution_count": 6,
      "outputs": []
    },
    {
      "cell_type": "code",
      "source": [
        "X[\"saving_status\"].astype(\"category\")"
      ],
      "metadata": {
        "id": "hNbZSds3nslN"
      },
      "execution_count": null,
      "outputs": []
    },
    {
      "cell_type": "code",
      "source": [
        "X[\"job\"].astype(\"category\")[:0]"
      ],
      "metadata": {
        "id": "eAwpoecrqyjh"
      },
      "execution_count": null,
      "outputs": []
    },
    {
      "cell_type": "code",
      "source": [
        "X[\"housing\"].astype(\"category\")[:0]"
      ],
      "metadata": {
        "id": "hL2Xuo3srJlM"
      },
      "execution_count": null,
      "outputs": []
    },
    {
      "cell_type": "code",
      "source": [
        "X[\"personal_status\"].astype(\"category\")[:0]"
      ],
      "metadata": {
        "id": "4Tsfrzr8rZ7S"
      },
      "execution_count": null,
      "outputs": []
    },
    {
      "cell_type": "code",
      "source": [
        "y = data[\"credit_class\"]\n",
        "y = y.astype(\"category\")\n",
        "y = y.cat.codes"
      ],
      "metadata": {
        "id": "8Zo2Zc9Jrj_O"
      },
      "execution_count": null,
      "outputs": []
    },
    {
      "cell_type": "code",
      "source": [
        "for feature in X.columns:\n",
        "  X[feature] = X[feature].astype(\"category\").cat.codes\n",
        "X"
      ],
      "metadata": {
        "id": "9SKt70rwstS4"
      },
      "execution_count": null,
      "outputs": []
    },
    {
      "cell_type": "code",
      "source": [
        "from sklearn.naive_bayes import CategoricalNB\n",
        "classifier = CategoricalNB()"
      ],
      "metadata": {
        "id": "UVN8htvrvpl_"
      },
      "execution_count": null,
      "outputs": []
    },
    {
      "cell_type": "code",
      "source": [
        "X1 = X[5:27]\n",
        "y1 = y[5:27]\n",
        "classifier.fit(X1,y1)\n",
        "CategoricalNB()"
      ],
      "metadata": {
        "id": "rFVtBqr9vF32"
      },
      "execution_count": null,
      "outputs": []
    },
    {
      "cell_type": "code",
      "source": [
        "classifier.predict(X1) == y1"
      ],
      "metadata": {
        "id": "60yvKUNlv6h-"
      },
      "execution_count": null,
      "outputs": []
    },
    {
      "cell_type": "code",
      "source": [
        "classifier.score(X1,y1)"
      ],
      "metadata": {
        "id": "fkUlbuYSwa7D"
      },
      "execution_count": null,
      "outputs": []
    },
    {
      "cell_type": "code",
      "source": [
        "classifier.predict(X[0:4]) == y[0:4]"
      ],
      "metadata": {
        "id": "iohMgAxNwznI"
      },
      "execution_count": null,
      "outputs": []
    },
    {
      "cell_type": "code",
      "source": [
        "classifier.score(X[0:4],y[0:4])"
      ],
      "metadata": {
        "id": "aDqPnTLLxBBY"
      },
      "execution_count": null,
      "outputs": []
    },
    {
      "cell_type": "code",
      "source": [
        "classifier..precision_score(X[0:4],y[0:4])"
      ],
      "metadata": {
        "id": "ArVVVV_c5V6H"
      },
      "execution_count": null,
      "outputs": []
    }
  ]
}